{
 "cells": [
  {
   "cell_type": "markdown",
   "metadata": {},
   "source": [
    "### Challenge\n",
    "Monitorear constantemente el tipo de cambio entre el dolar americano (USD) y el peso Mexicano (MXN) para llenar una tabla de tipo de cambio y tener una estadística de como se comporta a lo largo del tiempo."
   ]
  },
  {
   "cell_type": "markdown",
   "metadata": {},
   "source": [
    "#### Importar librerias"
   ]
  },
  {
   "cell_type": "code",
   "execution_count": 4,
   "metadata": {},
   "outputs": [],
   "source": [
    "import requests # Hace solicitudes HTTP y obtiene contenido de páginas web.\n",
    "from bs4 import BeautifulSoup # Analiza y extrae datos de documentos HTML/XML que fueron obtenidos por medio de requests\n",
    "import psycopg2 # Para conectarnos a Postgre y ejecutar consultas SQL.\n",
    "from configparser import ConfigParser # Para leer y manejar los archivos config.ini\n",
    "import logging #Para revisar el progreso y gestionar los errores que van apareciendo durante la ejecución del flujo\n",
    "from datetime import datetime\n",
    "import pandas as pd"
   ]
  },
  {
   "cell_type": "markdown",
   "metadata": {},
   "source": [
    "#### Configurar logs"
   ]
  },
  {
   "cell_type": "code",
   "execution_count": 5,
   "metadata": {},
   "outputs": [],
   "source": [
    "logging.basicConfig(level=logging.INFO, format='%(asctime)s - %(levelname)s - %(message)s')\n",
    "logger = logging.getLogger(__name__)"
   ]
  },
  {
   "cell_type": "markdown",
   "metadata": {},
   "source": [
    "#### Creación de clases y métodos"
   ]
  },
  {
   "cell_type": "markdown",
   "metadata": {},
   "source": [
    "Clase 1: Realiza la conexión a la página web y obtiene el tipo de cambio utilizando las librerias 'requests' y 'BeautifulSoup'"
   ]
  },
  {
   "cell_type": "code",
   "execution_count": 6,
   "metadata": {},
   "outputs": [
    {
     "name": "stderr",
     "output_type": "stream",
     "text": [
      "2024-06-30 09:11:00,782 - INFO - Tipo de cambio obtenido: 1 dólar estadounidense= 18339 pesos mexicanos, última actualización: 2024-06-30 12:00:00\n"
     ]
    },
    {
     "name": "stdout",
     "output_type": "stream",
     "text": [
      "Tipo de cambio obtenido: 1 dólar estadounidense = 18339 pesos mexicanos, última actualización: 2024-06-30 12:00:00\n"
     ]
    }
   ],
   "source": [
    "class ConnectionToWeb:\n",
    "    def __init__(self,url):\n",
    "        self.url = 'https://www.exchange-rates.org/es/conversor/usd-mxn'\n",
    "\n",
    "    def get_exchange_rate (self):\n",
    "        try:\n",
    "            response = requests.get(self.url) # Realiza la solicitud (GET) a la URL\n",
    "            response.raise_for_status() # Verifica el estado de la solicitud \n",
    "            \n",
    "            soup = BeautifulSoup(response.content, 'html.parser') # Analiza el contenido HTML que devolvió la solicitud HTTP\n",
    "            #Las siguientes 4 lineas buscan los atributos 'class' dentro de las etiquetas HTML\n",
    "            from_amount = soup.find('span', class_='from-amount').text.strip() \n",
    "            from_currency = soup.find('span', class_='from-cn').text.strip()\n",
    "            to_rate = soup.find('span', class_='to-rate').text.strip().replace(\",\", \"\")\n",
    "            to_currency = soup.find('span', class_='to-cn').text.strip()\n",
    "\n",
    "            update_date_str = soup.find('span', class_='converter-last-updated-value').text.strip()\n",
    "            update_date = datetime.strptime(update_date_str, '%d/%m/%Y %H:%M %Z')\n",
    "\n",
    "            logger.info(f'Tipo de cambio obtenido: {from_amount} {from_currency}= {to_rate} {to_currency}, última actualización: {update_date}')\n",
    "            return from_amount, from_currency, to_rate, to_currency, update_date\n",
    "        \n",
    "        except Exception as e:\n",
    "            logger.error (f'Error al obtener el tipo de cambio: {e}')\n",
    "            raise\n",
    "\n",
    "url = 'https://www.exchange-rates.org/es/conversor/usd-mxn'\n",
    "\n",
    "web_scraping = ConnectionToWeb(url)\n",
    "from_amount, from_currency, to_rate, to_currency, update_date = web_scraping.get_exchange_rate()\n",
    "\n",
    "print(f'Tipo de cambio obtenido: {from_amount} {from_currency} = {to_rate} {to_currency}, última actualización: {update_date}')\n"
   ]
  },
  {
   "cell_type": "markdown",
   "metadata": {},
   "source": [
    "Clase 2: Realiza todo el flujo para conectarse a la base de datos en PostgreSQL y hacer la apertura y cierre de la conexión de manera segura"
   ]
  },
  {
   "cell_type": "code",
   "execution_count": 15,
   "metadata": {},
   "outputs": [],
   "source": [
    "class DatabaseManager:\n",
    "    def __init__(self, config_file='config.ini'):\n",
    "        self.config = self.read_config(config_file)\n",
    "        self.conn = self.connect_db()\n",
    "\n",
    "    def read_config(self, filename):\n",
    "        config = ConfigParser()\n",
    "        config.read(filename)\n",
    "        if 'database' not in config:\n",
    "            raise KeyError('La sección [database] no se encuentra en el archivo de configuración.')\n",
    "        return config['database']\n",
    "\n",
    "    def connect_db(self):\n",
    "        try:\n",
    "            conn = psycopg2.connect(\n",
    "                host=self.config['host'],\n",
    "                database=self.config['database'],\n",
    "                user=self.config['user'],\n",
    "                password=self.config['password']\n",
    "            )\n",
    "            logger.info(\"Conexión a la base de datos exitosa\")\n",
    "            return conn\n",
    "        except Exception as e:\n",
    "            logger.error(f\"No se pudo conectar a la base de datos: {e}\")\n",
    "            raise\n",
    "\n",
    "    def close_db_connection(self):\n",
    "        if self.conn:\n",
    "            self.conn.close()\n",
    "            logger.info(\"Conexión a la base de datos cerrada\")\n"
   ]
  },
  {
   "cell_type": "markdown",
   "metadata": {},
   "source": [
    "Clase 3: En esta clase se realiza la creacion de la tabla y la insercion de datos en la misma"
   ]
  },
  {
   "cell_type": "code",
   "execution_count": 16,
   "metadata": {},
   "outputs": [],
   "source": [
    "class TableManager:\n",
    "    def __init__(self, db_manager):\n",
    "        self.db_manager = db_manager\n",
    "\n",
    "    def create_table(self):\n",
    "        create_table_query = \"\"\"\n",
    "        CREATE TABLE IF NOT EXISTS currency (\n",
    "            fromCurrency VARCHAR(50),\n",
    "            toCurrency VARCHAR(50),\n",
    "            total_value FLOAT,\n",
    "            storeday TIMESTAMP\n",
    "        );\n",
    "        \"\"\"\n",
    "        try:\n",
    "            cursor = self.db_manager.conn.cursor()\n",
    "            cursor.execute(create_table_query)\n",
    "            self.db_manager.conn.commit()\n",
    "            logger.info(\"Tabla 'currency' creada exitosamente\")\n",
    "        except Exception as e:\n",
    "            self.db_manager.conn.rollback()\n",
    "            logger.error(f\"Error al crear la tabla 'currency': {e}\")\n",
    "        finally:\n",
    "            cursor.close()\n",
    "\n",
    "    def insert_data(self, from_currency, to_currency, total_value, store_day):\n",
    "        try:\n",
    "            cursor = self.db_manager.conn.cursor()\n",
    "            insert_query = \"\"\"\n",
    "            INSERT INTO currency (fromCurrency, toCurrency, total_value, storeday)\n",
    "            VALUES (%s, %s, %s, %s);\n",
    "            \"\"\"\n",
    "            cursor.execute(insert_query, (from_currency, to_currency, total_value, store_day))\n",
    "            self.db_manager.conn.commit()\n",
    "            logger.info(\"Datos insertados correctamente en la base de datos\")\n",
    "        except Exception as e:\n",
    "            self.db_manager.conn.rollback()\n",
    "            logger.error(f\"No se pudo insertar datos en la base de datos: {e}\")\n",
    "        finally:\n",
    "            cursor.close()\n"
   ]
  },
  {
   "cell_type": "markdown",
   "metadata": {},
   "source": [
    "Clase 4: Se encarga de coordinar el proceso de obtención y almacenamiento del tipo de cambio"
   ]
  },
  {
   "cell_type": "code",
   "execution_count": 17,
   "metadata": {},
   "outputs": [],
   "source": [
    "class CurrencyMonitor:\n",
    "    def __init__(self, url, config_file='config.ini'):\n",
    "        self.web_scraper = ConnectionToWeb(url) # instancia de connectiontoweb\n",
    "        self.db_manager = DatabaseManager(config_file) # instancia de databasemanager\n",
    "        self.table_manager = TableManager (self.db_manager)\n",
    "\n",
    "    def run(self):\n",
    "        try:\n",
    "            from_amount, from_currency, to_rate, to_currency, update_date = self.web_scraper.get_exchange_rate()\n",
    "            self.table_manager.create_table()\n",
    "            self.table_manager.insert_data(from_currency, to_currency, to_rate, update_date)\n",
    "        except Exception as e:\n",
    "            logger.error(f'Error en el proceso: {e}')\n",
    "        finally:\n",
    "            self.db_manager.close_db_connection()"
   ]
  },
  {
   "cell_type": "markdown",
   "metadata": {},
   "source": [
    "Script principal para ejecutar todo el proceso"
   ]
  },
  {
   "cell_type": "code",
   "execution_count": 29,
   "metadata": {},
   "outputs": [
    {
     "name": "stderr",
     "output_type": "stream",
     "text": [
      "2024-06-30 11:28:58,266 - INFO - Conexión a la base de datos exitosa\n",
      "2024-06-30 11:28:58,718 - INFO - Tipo de cambio obtenido: 1 dólar estadounidense= 18339 pesos mexicanos, última actualización: 2024-06-30 13:55:00\n",
      "2024-06-30 11:28:58,761 - INFO - Tabla 'currency' creada exitosamente\n",
      "2024-06-30 11:28:58,795 - INFO - Datos insertados correctamente en la base de datos\n",
      "2024-06-30 11:28:58,797 - INFO - Conexión a la base de datos cerrada\n"
     ]
    }
   ],
   "source": [
    "if __name__ == \"__main__\":\n",
    "    url = 'https://www.exchange-rates.org/es/conversor/usd-mxn'\n",
    "    monitor = CurrencyMonitor(url)\n",
    "    monitor.run()"
   ]
  },
  {
   "cell_type": "markdown",
   "metadata": {},
   "source": [
    "### Consultas SQL y visualización de la tabla"
   ]
  },
  {
   "cell_type": "code",
   "execution_count": 30,
   "metadata": {},
   "outputs": [
    {
     "name": "stdout",
     "output_type": "stream",
     "text": [
      "Conexión exitosa a la base de datos\n",
      "fromcurrency         | tocurrency      | total_value  | storeday  \n",
      "------------------------------------------------------------------\n",
      "USD          | MXN        | 18339.000000 | 2024-06-29\n",
      "USD          | MXN        | 18339.000000 | 2024-06-29\n",
      "USD          | MXN        | 18339.000000 | 2024-06-30\n",
      "USD          | MXN        | 18339.000000 | 2024-06-30\n",
      "USD          | MXN        | 18339.000000 | 2024-06-30\n"
     ]
    }
   ],
   "source": [
    "config = ConfigParser()\n",
    "config.read('config.ini')\n",
    "\n",
    "conn_params = {\n",
    "    'host': config['database']['host'],\n",
    "    'database': config['database']['database'],\n",
    "    'user': config['database']['user'],\n",
    "    'password': config['database']['password']\n",
    "}\n",
    "\n",
    "conn = psycopg2.connect(**conn_params)\n",
    "print(\"Conexión exitosa a la base de datos\")\n",
    "\n",
    "select_query = 'SELECT * FROM currency;'\n",
    "\n",
    "try:\n",
    "    cursor = conn.cursor()\n",
    "    cursor.execute(select_query)\n",
    "\n",
    "    col_names = [desc[0] for desc in cursor.description]\n",
    "    rows = cursor.fetchall()\n",
    "\n",
    "    col_widths = [len(col) for col in col_names]\n",
    "    for row in rows:\n",
    "        for i, val in enumerate(row):\n",
    "            col_widths[i] = max(col_widths[i], len(str(val)))\n",
    "\n",
    "    header_row = \" | \".join(col.ljust(col_widths[i]) for i, col in enumerate(col_names))\n",
    "    print(header_row)\n",
    "    print(\"-\" * len(header_row))\n",
    "\n",
    "    for row in rows:\n",
    "        from_currency = \"USD\" if row[0] == \"dólar estadounidense\" else row[0]\n",
    "        to_currency = \"MXN\" if row[1] == \"pesos mexicanos\" else row[1]\n",
    "        print(f\"{from_currency.ljust(12)} | {to_currency.ljust(10)} | {row[2]} | {row[3]}\")\n",
    "\n",
    "except Exception as e:\n",
    "    print(f\"Error al ejecutar la consulta SQL: {e}\")\n",
    "\n",
    "finally:\n",
    "    cursor.close()\n",
    "    conn.close()\n"
   ]
  }
 ],
 "metadata": {
  "kernelspec": {
   "display_name": "Python 3",
   "language": "python",
   "name": "python3"
  },
  "language_info": {
   "codemirror_mode": {
    "name": "ipython",
    "version": 3
   },
   "file_extension": ".py",
   "mimetype": "text/x-python",
   "name": "python",
   "nbconvert_exporter": "python",
   "pygments_lexer": "ipython3",
   "version": "3.11.5"
  }
 },
 "nbformat": 4,
 "nbformat_minor": 2
}
